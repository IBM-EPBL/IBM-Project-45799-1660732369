{
  "nbformat": 4,
  "nbformat_minor": 0,
  "metadata": {
    "colab": {
      "provenance": []
    },
    "kernelspec": {
      "name": "python3",
      "display_name": "Python 3"
    },
    "language_info": {
      "name": "python"
    }
  },
  "cells": [
    {
      "cell_type": "code",
      "source": [],
      "metadata": {
        "id": "Oox4otLU971b"
      },
      "execution_count": null,
      "outputs": []
    },
    {
      "cell_type": "markdown",
      "source": [],
      "metadata": {
        "id": "SoOUL2EP-N0o"
      }
    },
    {
      "cell_type": "markdown",
      "source": [
        "# **Image Preprocessing**"
      ],
      "metadata": {
        "id": "-H8IaaRlcUJc"
      }
    },
    {
      "cell_type": "code",
      "source": [],
      "metadata": {
        "id": "GHSQs3bM-G9k"
      },
      "execution_count": null,
      "outputs": []
    },
    {
      "cell_type": "markdown",
      "source": [
        "### **Import ImageDataGenerator Library And Configure It**"
      ],
      "metadata": {
        "id": "_KRP4xr9c7ES"
      }
    },
    {
      "cell_type": "code",
      "execution_count": 64,
      "metadata": {
        "id": "a97mB3o9cLZc"
      },
      "outputs": [],
      "source": [
        "from keras.preprocessing.image import ImageDataGenerator\n",
        "train_datagen = ImageDataGenerator(rescale=1/255,zoom_range=0.2,horizontal_flip=True,vertical_flip=False)\n",
        "test_datagen = ImageDataGenerator(rescale=1/255)"
      ]
    },
    {
      "cell_type": "code",
      "source": [],
      "metadata": {
        "id": "syE4zyVDma14"
      },
      "execution_count": null,
      "outputs": []
    },
    {
      "cell_type": "markdown",
      "source": [],
      "metadata": {
        "id": "YF4RBndA1hW4"
      }
    },
    {
      "cell_type": "code",
      "source": [],
      "metadata": {
        "id": "xX01tIbDfPwJ"
      },
      "execution_count": 21,
      "outputs": []
    },
    {
      "cell_type": "code",
      "source": [
        "from tensorflow.keras.models import Sequential\n",
        "from tensorflow.keras.layers import Dense, Conv2D, Flatten, Dropout, MaxPooling2D"
      ],
      "metadata": {
        "id": "XIJFAo5_gkWH"
      },
      "execution_count": 3,
      "outputs": []
    },
    {
      "cell_type": "code",
      "source": [
        "model = Sequential()"
      ],
      "metadata": {
        "id": "ZMbJnB6lm5ks"
      },
      "execution_count": 4,
      "outputs": []
    },
    {
      "cell_type": "code",
      "source": [
        "model.add(Conv2D(32,(3,3),input_shape=(64,64,1), activation='relu'))"
      ],
      "metadata": {
        "id": "AeKrcfNAnWS5"
      },
      "execution_count": 5,
      "outputs": []
    },
    {
      "cell_type": "code",
      "source": [
        "model.add(MaxPooling2D(pool_size=(2,2)))"
      ],
      "metadata": {
        "id": "lQoHW50Eni8C"
      },
      "execution_count": 6,
      "outputs": []
    },
    {
      "cell_type": "code",
      "source": [
        "model.add(Flatten())"
      ],
      "metadata": {
        "id": "DyvcGaN2npml"
      },
      "execution_count": 7,
      "outputs": []
    },
    {
      "cell_type": "code",
      "source": [
        "model.add(Dense(units=512, activation='relu')) #Adding_The_Dense_Layers\n",
        "model.add(Dense(units=9,activation='softmax'))#Adding_The_Pooling_Layer"
      ],
      "metadata": {
        "id": "KzH92S1An09K"
      },
      "execution_count": 8,
      "outputs": []
    },
    {
      "cell_type": "code",
      "source": [
        "model.compile(loss=\"categorical_crossentropy\",optimizer=\"adam\",metrics=[\"accuracy\"])\n",
        "model.summary()"
      ],
      "metadata": {
        "colab": {
          "base_uri": "https://localhost:8080/"
        },
        "id": "GXbpHrUtoAEZ",
        "outputId": "18c3ee2c-2dfe-4fcb-8468-56358836097a"
      },
      "execution_count": 9,
      "outputs": [
        {
          "output_type": "stream",
          "name": "stdout",
          "text": [
            "Model: \"sequential\"\n",
            "_________________________________________________________________\n",
            " Layer (type)                Output Shape              Param #   \n",
            "=================================================================\n",
            " conv2d (Conv2D)             (None, 62, 62, 32)        320       \n",
            "                                                                 \n",
            " max_pooling2d (MaxPooling2D  (None, 31, 31, 32)       0         \n",
            " )                                                               \n",
            "                                                                 \n",
            " flatten (Flatten)           (None, 30752)             0         \n",
            "                                                                 \n",
            " dense (Dense)               (None, 512)               15745536  \n",
            "                                                                 \n",
            " dense_1 (Dense)             (None, 9)                 4617      \n",
            "                                                                 \n",
            "=================================================================\n",
            "Total params: 15,750,473\n",
            "Trainable params: 15,750,473\n",
            "Non-trainable params: 0\n",
            "_________________________________________________________________\n"
          ]
        }
      ]
    },
    {
      "cell_type": "code",
      "source": [
        "model.fit_generator(x_train,steps_per_epoch=20,epochs=10,validation_data=x_test,validation_steps=40 )\n"
      ],
      "metadata": {
        "id": "pViCWHH10zv-",
        "outputId": "db806198-ffcf-4188-b284-dcb4c94c90f4",
        "colab": {
          "base_uri": "https://localhost:8080/"
        }
      },
      "execution_count": 20,
      "outputs": [
        {
          "output_type": "stream",
          "name": "stderr",
          "text": [
            "/usr/local/lib/python3.7/dist-packages/ipykernel_launcher.py:1: UserWarning: `Model.fit_generator` is deprecated and will be removed in a future version. Please use `Model.fit`, which supports generators.\n",
            "  \"\"\"Entry point for launching an IPython kernel.\n"
          ]
        },
        {
          "output_type": "stream",
          "name": "stdout",
          "text": [
            "Epoch 1/10\n",
            "20/20 [==============================] - ETA: 0s - loss: 1.0404 - accuracy: 0.7665"
          ]
        },
        {
          "output_type": "stream",
          "name": "stderr",
          "text": [
            "WARNING:tensorflow:Your input ran out of data; interrupting training. Make sure that your dataset or generator can generate at least `steps_per_epoch * epochs` batches (in this case, 40 batches). You may need to use the repeat() function when building your dataset.\n"
          ]
        },
        {
          "output_type": "stream",
          "name": "stdout",
          "text": [
            "\b\b\b\b\b\b\b\b\b\b\b\b\b\b\b\b\b\b\b\b\b\b\b\b\b\b\b\b\b\b\b\b\b\b\b\b\b\b\b\b\b\b\b\b\b\b\b\b\b\b\b\b\b\b\b\b\b\b\b\b\b\b\b\b\b\b\b\b\b\b\b\b\b\b\b\b\b\b\b\b\b\b\r20/20 [==============================] - 31s 1s/step - loss: 1.0404 - accuracy: 0.7665 - val_loss: 1.6875 - val_accuracy: 0.4271\n",
            "Epoch 2/10\n",
            "20/20 [==============================] - 25s 1s/step - loss: 0.1538 - accuracy: 0.9549\n",
            "Epoch 3/10\n",
            "20/20 [==============================] - 24s 1s/step - loss: 0.0487 - accuracy: 0.9884\n",
            "Epoch 4/10\n",
            "20/20 [==============================] - 26s 1s/step - loss: 0.0178 - accuracy: 0.9974\n",
            "Epoch 5/10\n",
            "20/20 [==============================] - 24s 1s/step - loss: 0.0111 - accuracy: 0.9980\n",
            "Epoch 6/10\n",
            "20/20 [==============================] - 24s 1s/step - loss: 0.0059 - accuracy: 0.9991\n",
            "Epoch 7/10\n",
            "20/20 [==============================] - 26s 1s/step - loss: 0.0043 - accuracy: 0.9997\n",
            "Epoch 8/10\n",
            "20/20 [==============================] - 25s 1s/step - loss: 0.0029 - accuracy: 0.9997\n",
            "Epoch 9/10\n",
            "20/20 [==============================] - 24s 1s/step - loss: 0.0043 - accuracy: 0.9991\n",
            "Epoch 10/10\n",
            "20/20 [==============================] - 24s 1s/step - loss: 0.0022 - accuracy: 0.9998\n"
          ]
        },
        {
          "output_type": "execute_result",
          "data": {
            "text/plain": [
              "<keras.callbacks.History at 0x7f3e1e15aad0>"
            ]
          },
          "metadata": {},
          "execution_count": 20
        }
      ]
    },
    {
      "cell_type": "code",
      "source": [
        "model.save(\"/IBM/MyDrive/IBM/modelready.h5\")"
      ],
      "metadata": {
        "id": "D7RBCcnH76Ch"
      },
      "execution_count": 23,
      "outputs": []
    },
    {
      "cell_type": "code",
      "source": [
        "from google.colab import drive"
      ],
      "metadata": {
        "id": "Ww9cvC9XJqUW"
      },
      "execution_count": 23,
      "outputs": []
    },
    {
      "cell_type": "code",
      "source": [
        "drive.mount('/IBM')"
      ],
      "metadata": {
        "id": "Ljb1E_n4UqBL",
        "colab": {
          "base_uri": "https://localhost:8080/"
        },
        "outputId": "744b94b4-919b-449c-edca-ae2d4d0d5e67"
      },
      "execution_count": 67,
      "outputs": [
        {
          "output_type": "stream",
          "name": "stdout",
          "text": [
            "Mounted at /IBM\n"
          ]
        }
      ]
    },
    {
      "cell_type": "code",
      "source": [
        "from tensorflow.keras.preprocessing.image import ImageDataGenerator\n"
      ],
      "metadata": {
        "id": "xENthvdynuv9"
      },
      "execution_count": 12,
      "outputs": []
    },
    {
      "cell_type": "code",
      "source": [
        "train_datagen = ImageDataGenerator(rescale=1./255,zoom_range=0.2,horizontal_flip=True, vertical_flip=False)"
      ],
      "metadata": {
        "id": "gI3gxY0KoToJ"
      },
      "execution_count": 13,
      "outputs": []
    },
    {
      "cell_type": "code",
      "source": [
        "test_datagen= ImageDataGenerator(rescale=1./255)\n"
      ],
      "metadata": {
        "id": "iRaW5zgkofMp"
      },
      "execution_count": 14,
      "outputs": []
    },
    {
      "cell_type": "code",
      "source": [
        "x_test = test_datagen.flow_from_directory('/IBM/MyDrive/IBM/Dataset/test_set',target_size=(64,64), batch_size=300,\n",
        "                                          class_mode='categorical', color_mode = \"grayscale\")"
      ],
      "metadata": {
        "colab": {
          "base_uri": "https://localhost:8080/"
        },
        "id": "eQ2iBGWDnrTc",
        "outputId": "d3656b1d-0849-4d7d-cfe3-2dc181bde795"
      },
      "execution_count": 16,
      "outputs": [
        {
          "output_type": "stream",
          "name": "stdout",
          "text": [
            "Found 2250 images belonging to 9 classes.\n"
          ]
        }
      ]
    },
    {
      "cell_type": "code",
      "source": [
        "x_train = train_datagen.flow_from_directory('/IBM/MyDrive/IBM/Dataset/training_set',target_size=(64,64), batch_size=300,\n",
        "                                          class_mode='categorical', color_mode = \"grayscale\")"
      ],
      "metadata": {
        "colab": {
          "base_uri": "https://localhost:8080/"
        },
        "id": "o-GefQ2PrLbP",
        "outputId": "d1e79f08-dad7-484d-aa97-c61c5e83ae02"
      },
      "execution_count": 17,
      "outputs": [
        {
          "output_type": "stream",
          "name": "stdout",
          "text": [
            "Found 5854 images belonging to 9 classes.\n"
          ]
        }
      ]
    },
    {
      "cell_type": "code",
      "source": [
        "x_train.class_indices"
      ],
      "metadata": {
        "colab": {
          "base_uri": "https://localhost:8080/"
        },
        "id": "16qyrmLxsEbw",
        "outputId": "132db4a3-70b0-49a0-b7c9-f53eda473703"
      },
      "execution_count": 18,
      "outputs": [
        {
          "output_type": "execute_result",
          "data": {
            "text/plain": [
              "{'A': 0, 'B': 1, 'C': 2, 'D': 3, 'E': 4, 'F': 5, 'G': 6, 'H': 7, 'I': 8}"
            ]
          },
          "metadata": {},
          "execution_count": 18
        }
      ]
    },
    {
      "cell_type": "code",
      "source": [
        "x_test.class_indices"
      ],
      "metadata": {
        "colab": {
          "base_uri": "https://localhost:8080/"
        },
        "id": "WoOzZotPsnQX",
        "outputId": "d6d7a8ba-5457-4ef6-9c0f-8561c015d47d"
      },
      "execution_count": 19,
      "outputs": [
        {
          "output_type": "execute_result",
          "data": {
            "text/plain": [
              "{'A': 0, 'B': 1, 'C': 2, 'D': 3, 'E': 4, 'F': 5, 'G': 6, 'H': 7, 'I': 8}"
            ]
          },
          "metadata": {},
          "execution_count": 19
        }
      ]
    }
  ]
}