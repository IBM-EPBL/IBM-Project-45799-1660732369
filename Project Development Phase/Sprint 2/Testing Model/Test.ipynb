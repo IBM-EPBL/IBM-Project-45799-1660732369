{
  "nbformat": 4,
  "nbformat_minor": 0,
  "metadata": {
    "colab": {
      "provenance": []
    },
    "kernelspec": {
      "name": "python3",
      "display_name": "Python 3"
    },
    "language_info": {
      "name": "python"
    }
  },
  "cells": [
    {
      "cell_type": "code",
      "execution_count": 1,
      "metadata": {
        "colab": {
          "base_uri": "https://localhost:8080/"
        },
        "id": "z_Leyy94IOSd",
        "outputId": "45f69130-b168-4ee3-9dcc-d39cf9a2b73e"
      },
      "outputs": [
        {
          "output_type": "stream",
          "name": "stdout",
          "text": [
            "Mounted at /IBM\n"
          ]
        }
      ],
      "source": [
        "from google.colab import drive\n",
        "drive.mount('/IBM')"
      ]
    },
    {
      "cell_type": "code",
      "source": [
        "from keras.models import load_model\n",
        "import cv2 , numpy as np\n",
        "model = load_model('/IBM/MyDrive/IBM/modelready.h5')"
      ],
      "metadata": {
        "id": "9Hx4Da7KIRme"
      },
      "execution_count": 2,
      "outputs": []
    },
    {
      "cell_type": "code",
      "source": [
        "from skimage.transform import resize\n",
        "from tensorflow.keras.preprocessing import image\n",
        "op=['A','B','C','D','E','F','G','H','I']\n",
        "def detect(frame):\n",
        "    img=resize(frame,(64,64,1))\n",
        "    img=image.img_to_array(img)\n",
        "    img=np.expand_dims(img, axis=0)\n",
        "    if(np.max(img)>1):\n",
        "        img=img/255.0\n",
        "    prediction=model.predict(img)\n",
        "    prediction = np.argmax(model.predict(img), axis=-1)\n",
        "    #prediction=model.predict_classes(img)\n",
        "    print(\"The Letter is \"+ op[prediction[0]])"
      ],
      "metadata": {
        "id": "wr1giRfQIbQY"
      },
      "execution_count": 8,
      "outputs": []
    },
    {
      "cell_type": "code",
      "source": [
        "frame=cv2.imread(r\"/IBM/MyDrive/IBM/Dataset/test_set/A/1.png\")\n",
        "image.load_img(r\"/IBM/MyDrive/IBM/Dataset/test_set/A/1.png\")"
      ],
      "metadata": {
        "colab": {
          "base_uri": "https://localhost:8080/",
          "height": 81
        },
        "id": "V8GQYfaaIjCo",
        "outputId": "6e23f5b5-9c6c-4add-b14a-331ee83ecc66"
      },
      "execution_count": 6,
      "outputs": [
        {
          "output_type": "execute_result",
          "data": {
            "text/plain": [
              "<PIL.Image.Image image mode=RGB size=64x64 at 0x7FF6A8487750>"
            ],
            "image/png": "[encoded data removed]"
          },
          "metadata": {},
          "execution_count": 6
        }
      ]
    },
    {
      "cell_type": "code",
      "source": [
        "data = detect(frame)"
      ],
      "metadata": {
        "colab": {
          "base_uri": "https://localhost:8080/"
        },
        "id": "AhMyrmibI3Yk",
        "outputId": "616589db-ed74-4937-8e5b-964b6af02183"
      },
      "execution_count": 9,
      "outputs": [
        {
          "output_type": "stream",
          "name": "stdout",
          "text": [
            "1/1 [==============================] - 0s 25ms/step\n",
            "1/1 [==============================] - 0s 25ms/step\n",
            "The Letter is A\n"
          ]
        }
      ]
    }
  ]
}